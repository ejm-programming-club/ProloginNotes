{
 "cells": [
  {
   "cell_type": "markdown",
   "metadata": {},
   "source": [
    "Jingjie Yang  \n",
    "26th Sep 2018\n",
    "# S1: Data Structures & Algorithms"
   ]
  },
  {
   "cell_type": "markdown",
   "metadata": {},
   "source": [
    "## Data structures\n",
    "* used to store + modify data\n",
    "* common data structures:\n",
    "  * `int`: $\\mathbb{Z} = \\{\\dots, -2, -1, 0, 1, 2, \\dots\\}$\n",
    "    * non-negative integers $\\mathbb{N} = \\{0, 1, 2, \\dots\\}$ are used to index arrays\n",
    "  * `float`: $\\mathbb{R}$ (to a limited precision)\n",
    "  * `function`: $f: A \\mapsto B$\n",
    "    * `list` (array): $A = \\{0, 1, 2, \\dots, k - 1\\} \\subset \\mathbb{N}$\n",
    "      * e.g. $[0.1, -2, 1 + 2j]$ maps $0$ to $0.1$, $1$ to $-2$, and $2$ to $1 + 2j$.\n",
    "      * A list indexes its elements: the notions of \"first element\", \"second element\" are meaningful.\n",
    "      * The fact that the elemnts inside a list are ordered makes it useful to sort a list in some cases.\n",
    "    * `dict` (map): $A = \\text{any finite set}$\n",
    "      * e.g. $\\{1: 0, 0.1: -1, -0.1: 5\\}$ maps $1$ to $0$, $0.1$ to $-1$, and $-0.1$ to $5$.\n",
    "      * In many languages, including dictionaries in python, elements in maps are not indexed or ordered.\n",
    "      * Maps are most commonly used for rapid access of data when the domain is not evenly spaced out.\n",
    "      * For instance, it is computationally unfavourable to create a list of length 1001, $[-1, \\overbrace{0, 0, \\dots, 0}^{999 \\text{ zeroes}}, 1]$, to achieve the same effect of $\\{0: -1, 999: 1\\}$"
   ]
  },
  {
   "cell_type": "markdown",
   "metadata": {},
   "source": [
    "## Algorithms\n",
    "We shall consider computers as stupid instruments that only know how to carry out simple and straight-forward instructions. An `algorithm` is then a sequence of well-defined simple and straight-forward instructions. A well-known example from math is Euclid's algorithm to find the greatest common divisor: $gcd(a, b) = \\begin{cases}a, &b = 0\\\\ gcd(b, a \\% b)& \\text{otherwise}\\end{cases}$ where $a \\% b$ denotes the remainder of $a$ on division by $b$, aka $a$ modulo $b$.\n"
   ]
  },
  {
   "cell_type": "markdown",
   "metadata": {},
   "source": [
    "### Complexity\n",
    "As in many other subjects, there are many ways to achieve the same purpose, but some take less time than others. For instance, in maths, to find the last digit of $3^{10}$, we can without doubt compute such a number and read its last digit; after some observation, though, we should notice that the last digit is 4-periodic: $1, 3, 9, 7, 1, \\dots$. We can then exploit this feature of the integers (`multiplicative order` for the savvy) to quickly see that $10 \\% 4 = 2$ and arrive at the conclusion that the last digit if $9$. \n",
    "\n",
    "In computer science, the efficiency of an algorithm is called `algorithmic complexity`. Speficially, we are interested in knowing how the runtime increases when the input size $n$ increases. This is known as the asymptotic growth rate, and is denoted with the big-O notation. For polynomials, we simply take the term with the highest degree and ignore the leading coefficient. For instance, we say $169 n^3 + 23 n^2 - 9.5 n + 5$ is $O(n^3)$. This is because, as $n$ becomes big, the terms $5$, $9.5 n$, $23 n^2$, and eventually the coefficient $169$ all become irrelevant. The big-O notation allows us to compare the efficiencies of different algorithms without needing to bother with an exact formula of the runtime.\n",
    "\n",
    "We consider the runtime of an algorithm to be dependent on the number of costly operations performed in the worst case. Specifically, if we have\n",
    "\n",
    "```python\n",
    "def f(ls):  # ls is a list of length n\n",
    "    return ls\n",
    "\n",
    "\n",
    "def g(x):\n",
    "    for x in ls:\n",
    "        ... # perform some expensive operation\n",
    "    return ls\n",
    "\n",
    "\n",
    "def h(x):\n",
    "    for x in ls:\n",
    "        for y in ls:\n",
    "            ... # perform some expensive operation\n",
    "    return ls\n",
    "```\n",
    "then\n",
    "* $f$ is $O(1)$, as the input size does not matter;\n",
    "* $g$ is $O(n)$, as there is a single loop that is run $n$ times;\n",
    "* $h$ is $O(n^2)$, as there is a loop that is run $n$ times nested in another loop that is also run $n$ times.\n",
    "\n",
    "In practice, **while** loops, conditionals (**if**, **else** ), other control flows (**break**, **continue**), and *recursively* defined algorithms make the task of complexity analysis more intricate - for instance, there are $O(\\log(n))$ algorithms. The rule of thumb is to identify the loops and the number of times each one is executed."
   ]
  },
  {
   "cell_type": "markdown",
   "metadata": {},
   "source": [
    "## Sorting algorithms\n",
    "Sorting algorithms sort things (duh). Formally, a sorting algorithm takes in a list $[a_0, a_1, \\dots, a_{n - 1}]$ and returns another list of the same elements but in sorted order: $[b_0, b_1, \\dots, b_{n - 1}]$ such that each $b_j$ corresponds to a unique $a_j$ and vice versa, and for $i$ in range of $0$ (included) and $n - 1$ (not included) - `for i in range(0, n - 1)`, or `for i in range(n - 1)` for short - we have $b_i < b_{i + 1}$."
   ]
  },
  {
   "cell_type": "markdown",
   "metadata": {},
   "source": [
    "### Selection Sort\n",
    "`Selection sort` implements an intuitive idea: we *select* the minimum element of the original list, append it to the output list, and repeat until the original list is empty. Let's see how it works:\n",
    "\n",
    "| Input | Output |\n",
    "|-------|--------|\n",
    "| `[6, 9, 1]`  | `[]` |\n",
    "| `[9, 6]`  | `[1]` |\n",
    "| `[9]`  | `[1, 6]` |\n",
    "| `[]`  | `[1, 6, 9]` |\n",
    "\n",
    "In python, it can be implemented as follows:\n"
   ]
  },
  {
   "cell_type": "code",
   "execution_count": 1,
   "metadata": {},
   "outputs": [],
   "source": [
    "def selection_sort(ls_in):\n",
    "    ls_out = []\n",
    "\n",
    "    while ls_in:\n",
    "        min_element = min(ls_in)\n",
    "        ls_in.remove(min_element)\n",
    "        ls_out.append(min_element)\n",
    "    return ls_out"
   ]
  },
  {
   "cell_type": "markdown",
   "metadata": {},
   "source": [
    "We have a problem: the machine is smarter than we thought - there exist built-in functions/methods to take the `min` of a list, `remove` from and `append` to lists. We will show that `min` is an $O(n)$ operation, and understanding why `ls.remove()` is an $O(n)$ operation and `ls.append()` is an $O(1)$ operation is left as an exercise to the reader (see links at bottom)."
   ]
  },
  {
   "cell_type": "code",
   "execution_count": 2,
   "metadata": {},
   "outputs": [],
   "source": [
    "def min_(ls):\n",
    "    min_element = float('inf')  # +infinity\n",
    "    for x in ls:\n",
    "        if x < min_element:\n",
    "            min_element = x\n",
    "    return min_element"
   ]
  },
  {
   "cell_type": "markdown",
   "metadata": {},
   "source": [
    "To sum up, 2 $O(n)$ operations (`min` and `ls.remove()`) are performed within an $O(n)$ loop - selection sort is hence $O(n^2)$."
   ]
  },
  {
   "cell_type": "markdown",
   "metadata": {},
   "source": [
    "### Merge Sort"
   ]
  },
  {
   "cell_type": "markdown",
   "metadata": {},
   "source": [
    "`Merge sort` is a more delicate and efficient algorithm. The gist is to break down the problem of sorting a big list into sorting small lists so that we can take advantage of the fact that lists of length 0 and 1 are already sorted, and merging those sorted small lists to obtain a sorted big list. Let us look at the implementation:"
   ]
  },
  {
   "cell_type": "code",
   "execution_count": 5,
   "metadata": {},
   "outputs": [
    {
     "name": "stdout",
     "output_type": "stream",
     "text": [
      "Split [0, 5, 2, 9] into [0, 5] and [2, 9]\n",
      "Split [0, 5] into [0] and [5]\n",
      "Already sorted: [0]\n",
      "\n",
      "Already sorted: [5]\n",
      "\n",
      "Merge [0] and [5]: [0, 5]\n",
      "\n",
      "Split [2, 9] into [2] and [9]\n",
      "Already sorted: [2]\n",
      "\n",
      "Already sorted: [9]\n",
      "\n",
      "Merge [2] and [9]: [2, 9]\n",
      "\n",
      "Merge [0, 5] and [2, 9]: [0, 2, 5, 9]\n",
      "\n"
     ]
    },
    {
     "data": {
      "text/plain": [
       "[0, 2, 5, 9]"
      ]
     },
     "execution_count": 5,
     "metadata": {},
     "output_type": "execute_result"
    }
   ],
   "source": [
    "def merge_sort(ls_in):\n",
    "    # SORT\n",
    "    n = len(ls_in)\n",
    "    if n <= 1:\n",
    "        print(f\"Already sorted: {ls_in}\\n\")\n",
    "        return ls_in\n",
    "    # ls[:k] gives the sublist from 0 to (k - 1)\n",
    "    ls1 = ls_in[:n // 2]  # n // 2 means floor of n/2\n",
    "    # ls[k:] gives the sublist from k on\n",
    "    ls2 = ls_in[n // 2:]\n",
    "    \n",
    "    print(f\"Split {ls_in} into {ls1} and {ls2}\")\n",
    "    ls1 = merge_sort(ls1)\n",
    "    ls2 = merge_sort(ls2)\n",
    "    \n",
    "    # MERGE\n",
    "    i, j = 0, 0\n",
    "    ls_out = []\n",
    "    while i < len(ls1) and j < len(ls2):\n",
    "        if ls1[i] <= ls2[j]:\n",
    "            ls_out.append(ls1[i])\n",
    "            i += 1  # alternatively, remove from ls1\n",
    "        else:  # ls2[j] < ls1[i]\n",
    "            ls_out.append(ls2[j])\n",
    "            j += 1  # alternatively, remove from ls2\n",
    "    # One of the two lists will be empty already\n",
    "    ls_out += ls1[i:] + ls2[j:]\n",
    "    print(f\"Merge {ls1} and {ls2}: {ls_out}\\n\")\n",
    "    return ls_out\n",
    "\n",
    "\n",
    "merge_sort([0, 5, 2, 9])"
   ]
  },
  {
   "cell_type": "markdown",
   "metadata": {},
   "source": [
    "The analysis of the runtime of this algorithm is more intricate. We should notice that the algorithm consists of two parts: sorting and merging. During the sorting, a list of size $n$ is broken into two lists of size $\\dfrac{n}{2}$ (for convenience, suppose $n = 2^k$ with $k \\in \\mathbb{N}$); then those two sorted lists are merged, after $\\dfrac{n}{2}$ comparisons are made.\n",
    "\n",
    "Let $T(n)$ be the time needed to merge sort a list of size $n$. Then we have $$\\begin{cases}T(0) = 0, T(1) = 1,\\\\T(n) = 2 T\\left(\\dfrac{n}{2}\\right) + \\dfrac{n}{2}.\\end{cases}$$\n",
    "\n",
    "Knowing that $n = 2^k$, we can continue to expand $T(n)$:\n",
    "\n",
    "$\\begin{align*}\n",
    "T(n) \n",
    "&= 2 T\\left(\\dfrac{n}{2}\\right) + \\dfrac{n}{2}\\\\\n",
    "&= 2 (2 T\\left(\\dfrac{n}{4}\\right) + \\dfrac{n}{4}) + \\dfrac{n}{2}\\\\\n",
    "&= 2 (2 (2 T\\left(\\dfrac{n}{8}\\right) + \\dfrac{n}{8}) + \\dfrac{n}{4}) + \\dfrac{n}{2}\\\\\n",
    "&\\vdots\\\\\n",
    "&= \\overbrace{2 (2 \\cdots (2}^{k \\text{ layers}} T\\left(\\dfrac{n}{2^k}\\right) + \\dfrac{n}{2^k}) \\cdots + \\dfrac{n}{4}) + \\dfrac{n}{2}\\\\\n",
    "&= 2^k T(1) + k \\dfrac{n}{2}\\\\\n",
    "&= n + \\log_2(n) \\dfrac{n}{2}\n",
    "\\end{align*}$  \n",
    "which is $O(n \\log n)$."
   ]
  },
  {
   "cell_type": "markdown",
   "metadata": {},
   "source": [
    "Notice how the merge sort function calls itself inside the function: this is known as *recursion*. The way how merge sort breaks down a problem into small sub-problems that are easier to solve and combine the solutions to these sub-problems is known as the **divide and conquer** paradigm. It is an efficient manner of designing algorithms: here, sorting takes $O(n \\log n)$ instead of $O(n^2)$.\n",
    "\n",
    "A kindly reminder: recursion appears efficient and elegant, but that is only when you master it - otherwise others (including you) will have a hard time debugging."
   ]
  },
  {
   "cell_type": "markdown",
   "metadata": {},
   "source": [
    "## Further reading\n",
    "* Python editor (community version works well): https://www.jetbrains.com/pycharm/\n",
    "* Python basics: https://www.learnpython.org\n",
    "* Sorting algorithms, visualised: https://www.youtube.com/watch?v=kPRA0W1kECg\n",
    "* Big-O: http://www.bigocheatsheet.com\n"
   ]
  }
 ],
 "metadata": {
  "kernelspec": {
   "display_name": "Python 3",
   "language": "python",
   "name": "python3"
  },
  "language_info": {
   "codemirror_mode": {
    "name": "ipython",
    "version": 3
   },
   "file_extension": ".py",
   "mimetype": "text/x-python",
   "name": "python",
   "nbconvert_exporter": "python",
   "pygments_lexer": "ipython3",
   "version": "3.6.5"
  }
 },
 "nbformat": 4,
 "nbformat_minor": 2
}
