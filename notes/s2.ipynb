{
  "nbformat": 4,
  "nbformat_minor": 0,
  "metadata": {
    "colab": {
      "name": "s2.ipynb",
      "version": "0.3.2",
      "provenance": [],
      "collapsed_sections": [],
      "toc_visible": true
    },
    "kernelspec": {
      "display_name": "Python 3",
      "language": "python",
      "name": "python3"
    }
  },
  "cells": [
    {
      "metadata": {
        "id": "2i-yMDSs5FVr",
        "colab_type": "text"
      },
      "cell_type": "markdown",
      "source": [
        "Théo Takla\n",
        "10/10/2018\n",
        "\n",
        "# S2: Graph Theory"
      ]
    },
    {
      "metadata": {
        "id": "KB31qi0U5FVr",
        "colab_type": "text"
      },
      "cell_type": "markdown",
      "source": [
        "## 1. Graphs"
      ]
    },
    {
      "metadata": {
        "id": "lacpFBE75FVs",
        "colab_type": "text"
      },
      "cell_type": "markdown",
      "source": [
        "### 1.1 Definition"
      ]
    },
    {
      "metadata": {
        "id": "dkZjxWmw5FVu",
        "colab_type": "text"
      },
      "cell_type": "markdown",
      "source": [
        "A **graph** is a special data structure, which establishes relations between **vertices** through **edges**."
      ]
    },
    {
      "metadata": {
        "id": "YhVtpTfB5FVu",
        "colab_type": "text"
      },
      "cell_type": "markdown",
      "source": [
        "Example: ![Graph Example](img/graph-example.png)"
      ]
    },
    {
      "metadata": {
        "id": "kol-t_RY5FVv",
        "colab_type": "text"
      },
      "cell_type": "markdown",
      "source": [
        "## 1.2 Storing"
      ]
    },
    {
      "metadata": {
        "id": "p7dRdhHS5FVv",
        "colab_type": "text"
      },
      "cell_type": "markdown",
      "source": [
        "Storing a graph in a program can be done in multiple ways. Depending on which operations you'll carry on the graph, some methods will be more useful than others (and even faster for some algorithms).\n",
        "\n",
        "  - Simply a list of _vertices_ and _edges_:"
      ]
    },
    {
      "metadata": {
        "id": "KLBAwHKU5FVw",
        "colab_type": "code",
        "colab": {
          "base_uri": "https://localhost:8080/",
          "height": 53
        },
        "outputId": "dce0f1cd-d5c0-44da-b76c-7d508317f428"
      },
      "cell_type": "code",
      "source": [
        "vertices = [1, 2, 3, 4, 5, 6]\n",
        "edges = [(1, 2), (1, 5), (2, 5), (2, 3), (3, 4), (4, 5), (4, 6)]\n",
        "print(\"Number of vertices:\", len(vertices))\n",
        "print(\"Number of (unique here) edges:\", len(edges))"
      ],
      "execution_count": 1,
      "outputs": [
        {
          "output_type": "stream",
          "text": [
            "# of vertices: 6\n",
            "# of edges: 7\n"
          ],
          "name": "stdout"
        }
      ]
    },
    {
      "metadata": {
        "id": "CLUYsYmC5FV1",
        "colab_type": "text"
      },
      "cell_type": "markdown",
      "source": [
        "  - An adjacency list is a *map* (dictionary in python) which, to each vertex, maps a list of vertices to which the vertex is connected:"
      ]
    },
    {
      "metadata": {
        "id": "i93jpXDn7X_-",
        "colab_type": "code",
        "colab": {
          "base_uri": "https://localhost:8080/",
          "height": 35
        },
        "outputId": "61ddc74a-cd8c-458b-b2e8-9074e3290cff"
      },
      "cell_type": "code",
      "source": [
        "graph=  {\n",
        "    1: [2, 5],\n",
        "    2: [1, 3, 5],\n",
        "    3: [2, 4],\n",
        "    4: [3, 5, 6],\n",
        "    5: [1, 2, 4],\n",
        "    6: [4]\n",
        "}\n",
        "\n",
        "print(\"Vertices connected to vertex 2:\", graph[2])"
      ],
      "execution_count": 4,
      "outputs": [
        {
          "output_type": "stream",
          "text": [
            "Vertices connected to vertex 2: [1, 3, 5]\n"
          ],
          "name": "stdout"
        }
      ]
    },
    {
      "metadata": {
        "id": "j08HgS8x8HfO",
        "colab_type": "text"
      },
      "cell_type": "markdown",
      "source": [
        "  - An adjacency matrix: \n",
        "\n",
        "![Adjacency Matrix](http://mathworld.wolfram.com/images/eps-gif/AdjacencyMatrix_1002.gif)\n",
        "\n",
        "There are other ways, but these are mainly the ones you'll be using - and that prologin will be using when they give you the data."
      ]
    },
    {
      "metadata": {
        "id": "Rl4T9rbP9ZiM",
        "colab_type": "text"
      },
      "cell_type": "markdown",
      "source": [
        "## 2. Algorithms"
      ]
    },
    {
      "metadata": {
        "id": "0YmpL3IY9iJd",
        "colab_type": "text"
      },
      "cell_type": "markdown",
      "source": [
        "### 2.1  Data structures\n",
        "\n",
        "To understand DFS and BFS, we need to first learn about the data types they use: **stacks** and **queues**.\n",
        "\n",
        "  - Stacks are composed of a list, and two operations: **push** and **pop**.\n",
        " \n",
        " ![Stack](https://www.cs-ib.net/assets/img/stack-data-structure.png)\n",
        "  \n",
        "  - Queues are composed of a list, and two operations: **enqueue** and **dequeue**\n",
        "  \n",
        "  ![Queue](https://upload.wikimedia.org/wikipedia/commons/5/52/Data_Queue.svg)\n",
        "\n",
        "\n",
        "\n"
      ]
    },
    {
      "metadata": {
        "id": "qxwU7oS3APeJ",
        "colab_type": "text"
      },
      "cell_type": "markdown",
      "source": [
        "### 2.2 BFS / DFS\n",
        "\n",
        "The simplest algorithms on graphs are called **breadth-first search** and **depth-first search**. They're similar to what you'd do if you were in a maze that was a graph, and had to map it. It is used to *traverse* and explore its *properties* such as connected components, etc.\n",
        "\n",
        "The algorithm requires two arguments to run: a _graph_ and a _starting vertex_.\n",
        "\n",
        "Algorithm in pseudo-pseudo-code:\n",
        "\n",
        "\n",
        "\n"
      ]
    },
    {
      "metadata": {
        "id": "_xn_GlZCA87w",
        "colab_type": "code",
        "colab": {}
      },
      "cell_type": "code",
      "source": [
        "# G = (our graph)\n",
        "# S = (starting vertex)\n",
        "# queue = [S]\n",
        "# visited_vertices\n",
        "# while the queue is not empty:\n",
        "#     dequeue a vertex from the queue and call it current_vertex\n",
        "#     add current_vertex to the visited_vertices\n",
        "#     make a list of all the neighbours of current_vertex\n",
        "#     for each neighbour:\n",
        "#         if it is not in the list visited_vertices:\n",
        "#             enqueue this neighbour to the queue"
      ],
      "execution_count": 0,
      "outputs": []
    },
    {
      "metadata": {
        "id": "XvkZnpm3B0Hj",
        "colab_type": "text"
      },
      "cell_type": "markdown",
      "source": [
        "[Nice animation](https://www.cs.usfca.edu/~galles/visualization/BFS.html)"
      ]
    },
    {
      "metadata": {
        "id": "3KGk5Qew9gRo",
        "colab_type": "code",
        "colab": {}
      },
      "cell_type": "code",
      "source": [
        "# BFS / DFS\n",
        "\n",
        "graph=  {\n",
        "    1: [2, 5],\n",
        "    2: [1, 3, 5],\n",
        "    3: [2, 4],\n",
        "    4: [3, 5, 6],\n",
        "    5: [1, 2, 4],\n",
        "    6: [4]\n",
        "}\n",
        "\n",
        "def bfs(graph, starting_vertex):\n",
        "  pass\n",
        "\n",
        "def dfs(graph, starting_vertex):\n",
        "  pass"
      ],
      "execution_count": 0,
      "outputs": []
    }
  ]
}